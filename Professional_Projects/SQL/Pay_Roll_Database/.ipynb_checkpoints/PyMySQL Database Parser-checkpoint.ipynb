{
 "cells": [
  {
   "cell_type": "code",
   "execution_count": 1,
   "id": "dc8dc948",
   "metadata": {},
   "outputs": [],
   "source": [
    "import pandas as pd\n",
    "import numpy as np\n",
    "import os\n",
    "import pymysql\n",
    "import random\n",
    "import datetime\n",
    "import math\n",
    "import requests\n",
    "import pyspark\n",
    "\n",
    "from pyspark.sql import SparkSession\n",
    "from random import randrange, randint\n",
    "from datetime import timedelta"
   ]
  },
  {
   "cell_type": "code",
   "execution_count": 2,
   "id": "bd61a6d5",
   "metadata": {},
   "outputs": [
    {
     "data": {
      "text/html": [
       "\n",
       "            <div>\n",
       "                <p><b>SparkSession - in-memory</b></p>\n",
       "                \n",
       "        <div>\n",
       "            <p><b>SparkContext</b></p>\n",
       "\n",
       "            <p><a href=\"http://DESKTOP-6LC0SC2:4040\">Spark UI</a></p>\n",
       "\n",
       "            <dl>\n",
       "              <dt>Version</dt>\n",
       "                <dd><code>v3.2.1</code></dd>\n",
       "              <dt>Master</dt>\n",
       "                <dd><code>local[*]</code></dd>\n",
       "              <dt>AppName</dt>\n",
       "                <dd><code>Employee_Data</code></dd>\n",
       "            </dl>\n",
       "        </div>\n",
       "        \n",
       "            </div>\n",
       "        "
      ],
      "text/plain": [
       "<pyspark.sql.session.SparkSession at 0x263b808ae90>"
      ]
     },
     "execution_count": 2,
     "metadata": {},
     "output_type": "execute_result"
    }
   ],
   "source": [
    "word_site = \"https://www.mit.edu/~ecprice/wordlist.10000\"\n",
    "\n",
    "response = requests.get(word_site)\n",
    "words = response.content.decode(\"utf-8\").splitlines()\n",
    "spark = SparkSession.builder.appName(\"Employee_Data\").getOrCreate() \n",
    "spark"
   ]
  },
  {
   "cell_type": "code",
   "execution_count": 3,
   "id": "585ef975",
   "metadata": {},
   "outputs": [
    {
     "data": {
      "text/plain": [
       "['first_name',\n",
       " 'last_name',\n",
       " 'company_name',\n",
       " 'address',\n",
       " 'city',\n",
       " 'county',\n",
       " 'state',\n",
       " 'zip',\n",
       " 'phone1',\n",
       " 'phone2',\n",
       " 'email',\n",
       " 'web']"
      ]
     },
     "execution_count": 3,
     "metadata": {},
     "output_type": "execute_result"
    }
   ],
   "source": [
    "minimum_wage_df = pd.read_csv(\"Minimum_Wage_List.csv\")\n",
    "employees_df = spark.read.csv(\"Employee_Dummy.csv\", header=True)\n",
    "employees_df.columns"
   ]
  },
  {
   "cell_type": "code",
   "execution_count": null,
   "id": "f8400fdf",
   "metadata": {},
   "outputs": [],
   "source": []
  },
  {
   "cell_type": "code",
   "execution_count": 4,
   "id": "9b8f4d86",
   "metadata": {},
   "outputs": [],
   "source": [
    "def repair_employees_df(employees_df, words):\n",
    "    employees = employees_df.drop(\"phone2\", \"company_name\", \"county\")\n",
    "    employees = generate_unique_values(employees.toPandas(), words)\n",
    "    \n",
    "    employees = employees.rename({\"address\": \"street\", \"phone1\": \"phone\", \"web\": \"website\"}, axis=1)\n",
    "    employee_id = [*range(1, 4500, 1)]\n",
    "    employees.insert(0, \"employee_id\", employee_id)\n",
    "    return employees"
   ]
  },
  {
   "cell_type": "code",
   "execution_count": 5,
   "id": "f3ac4f98",
   "metadata": {},
   "outputs": [],
   "source": [
    "def generate_unique_values(employees, words):\n",
    "    counter = 0\n",
    "    \n",
    "    \n",
    "    for rows, columns in employees.iterrows():\n",
    "        worker = (rows, columns)[1]\n",
    "        \n",
    "        street_numb = random.randint(1, 999)\n",
    "        street = random.choice(words)\n",
    "        street_ending = [\"Ave\", \"St\", \"Blvd\", \"Ct\", \"Mnr\", \"RD\", \"Drive\",\n",
    "                     \"Pkwy\", \"Terrace\", \"Hwy\"]\n",
    "        email_ending = [\"@gmail.com\", \"@hotmail.com\", \"@yahoo.com\", \"@mail.com\", \"@venere.org\", \"@cox.net\"]\n",
    "    \n",
    "        line_one = str(street_numb) + \" \" + street.capitalize() + \" \" + random.choice(street_ending)\n",
    "        email = worker[\"first_name\"][0] + worker[\"last_name\"] + random.choice(email_ending)\n",
    "        website = \"http://\" + worker[\"first_name\"].lower() + random.choice(words) + \".com\"\n",
    "        \n",
    "        if worker[\"address\"] is None: worker[\"address\"] = line_one\n",
    "        if worker[\"zip\"] is None: worker[\"zip\"] = random.randint(10000, 99999)\n",
    "        if worker[\"phone1\"] is None: worker[\"phone1\"] = \"-\".join([str(i) for i in random.sample(range(100, 999), 3)])\n",
    "        if worker[\"email\"] is None: worker[\"email\"] = email\n",
    "        if worker[\"web\"] is None: worker[\"web\"] = website\n",
    "        \n",
    "    return employees"
   ]
  },
  {
   "cell_type": "code",
   "execution_count": 6,
   "id": "38e048ec",
   "metadata": {},
   "outputs": [],
   "source": [
    "def random_date(start, end): \n",
    "    between_dates = end - start\n",
    "    days_between = between_dates.days\n",
    "\n",
    "    random_numb_days = random.randrange(days_between)\n",
    "    random_date = start + datetime.timedelta(days=random_numb_days)\n",
    "    return random_date.date()"
   ]
  },
  {
   "cell_type": "code",
   "execution_count": 7,
   "id": "3433493f",
   "metadata": {},
   "outputs": [],
   "source": [
    "def repair_minimum_wage(minimum_wage):\n",
    "    minimum_wage = minimum_wage.loc[:,[\"Minimum Wage Rate\", \"USPS Abbreviation\"]]\n",
    "    fixed_hourly = []\n",
    "    \n",
    "    for items in minimum_wage[\"Minimum Wage Rate\"]:\n",
    "        new_items = (items[1:-7])\n",
    "        fixed_hourly.append(float(new_items))\n",
    "        \n",
    "    minimum_wage[\"Minimum Wage Rate\"] = fixed_hourly\n",
    "    return minimum_wage"
   ]
  },
  {
   "cell_type": "code",
   "execution_count": 8,
   "id": "1803fb1d",
   "metadata": {},
   "outputs": [],
   "source": [
    "def create_employee_attributes(employees, minimum_wage, start, end, database_starttime):\n",
    "    employee_states = employees[\"state\"].to_numpy()\n",
    "    department_codes = [100, 200, 300, 400, 500]\n",
    "    job_codes = [27345, 47893, 36289, 11532, 22634]\n",
    "    pay = [\"minimum\", 60000, 100000, 120000, 110000]\n",
    "    departments = [\"Customer Service\", \"Manager\", \"Leadership\", \"IT\", \"IT\"]\n",
    "    work_benefits = [\"Enrolled\", \"Not Enrolled\"]\n",
    "\n",
    "    jobs = [\"Team Member\", \"Department Leader\", \"Store Leader\", \"Software Engineer\", \"Data Analyst\"]\n",
    "    job_desc = [\"Help customers with complaints and questions, give customers information about products and services, take orders, and process returns\",\n",
    "                \"Accomplishes department objectives by managing staff; planning and evaluating department activities. Maintains staff by recruiting, selecting, orienting, and training employees. Ensures a safe, secure, and legal work environment. Develops personal growth opportunities\",\n",
    "                \"Manage everything related to the store. Store leaders manage the store's employees. They are directly involved in hiring, training, and even firing employees.\",\n",
    "                \"Collects and stores data on sales numbers, market research, logistics, linguistics, or other behaviors. They bring technical expertise to ensure the quality and accuracy of that data, then process, design, and present it in ways to help people, businesses, and organizations make better decisions.\",\n",
    "                \"Designs, develops and maintains computer software at a company. They use their creativity and technical skills and apply the principles of software engineering to help solve new and ongoing problems for an organization.\"]\n",
    "\n",
    "\n",
    "\n",
    "    department_id = []\n",
    "    job_id = []\n",
    "    department = []\n",
    "    job_title = []\n",
    "    job_description = []\n",
    "    start_date = []\n",
    "    experience = []\n",
    "    benefits = []\n",
    "    status = []\n",
    "    salary = []\n",
    "\n",
    "    counter = 0\n",
    "\n",
    "    for items in range(4499):\n",
    "        code = random.choice(department_codes)\n",
    "        index = department_codes.index(code)\n",
    "\n",
    "        department_id.append(code)\n",
    "        job_id.append(job_codes[index])\n",
    "        department.append(departments[index])\n",
    "        job_title.append(jobs[index])\n",
    "        job_description.append(job_desc[index])\n",
    "        benefits.append(random.choice(work_benefits))\n",
    "        status.append(\"Currently Employed\")\n",
    "\n",
    "        employment_date = random_date(start, end)\n",
    "        start_date.append(employment_date)\n",
    "\n",
    "        years = math.trunc((database_starttime - employment_date).days / 365)\n",
    "        experience.append(years)\n",
    "\n",
    "        if pay[index] == \"minimum\":\n",
    "            state = employee_states[counter]\n",
    "            hourly_rate = minimum_wage.loc[minimum_wage[\"USPS Abbreviation\"]==state]\n",
    "            annual = round((hourly_rate[\"Minimum Wage Rate\"].values[0] + years) * 40 * 52)\n",
    "            salary.append(annual)\n",
    "        else:\n",
    "            annual = pay[index] + (10000 * years)\n",
    "            salary.append(annual)\n",
    "\n",
    "\n",
    "        counter += 1\n",
    "\n",
    "    employees = employees.assign(\n",
    "        job_id = job_id,\n",
    "        department_id = department_id,\n",
    "        department = department,\n",
    "        job_title = job_title,\n",
    "        job_description = job_description,\n",
    "        start_date = start_date,\n",
    "        years_with_company = experience,\n",
    "        benefits = benefits,\n",
    "        salary = salary,\n",
    "        work_status = status\n",
    "\n",
    "\n",
    "    )\n",
    "    \n",
    "    employees[\"department_id\"].replace({500 : 400}, inplace=True)\n",
    "    return employees"
   ]
  },
  {
   "cell_type": "code",
   "execution_count": 9,
   "id": "410ba0b0",
   "metadata": {},
   "outputs": [],
   "source": [
    "def employees_table(worker, cur, connection):\n",
    "    sql = \"\"\"INSERT INTO employees (employee_id, \n",
    "                                        first_name, \n",
    "                                        last_name, \n",
    "                                        street, \n",
    "                                        city, \n",
    "                                        state, \n",
    "                                        zip)\n",
    "                                    \n",
    "         values (%s, %s, %s, %s, %s, %s, %s) \n",
    "    \"\"\"\n",
    "    cur.execute(sql, (worker[\"employee_id\"], worker[\"first_name\"], worker[\"last_name\"], \n",
    "                      worker[\"street\"], worker[\"city\"], worker[\"state\"], worker[\"zip\"]))\n",
    "    \n",
    "    connection.commit()"
   ]
  },
  {
   "cell_type": "code",
   "execution_count": 10,
   "id": "fe2b05c8",
   "metadata": {},
   "outputs": [],
   "source": [
    "def contact_table(worker, cur, connection):\n",
    "    sql = \"\"\"INSERT INTO contact (employee_id, \n",
    "                                    phone, \n",
    "                                    email, \n",
    "                                    website)\n",
    "                                    \n",
    "         values (%s, %s, %s, %s) \n",
    "    \"\"\"\n",
    "    cur.execute(sql, (worker[\"employee_id\"], worker[\"phone\"], worker[\"email\"], \n",
    "                      worker[\"website\"]))\n",
    "    \n",
    "    connection.commit()"
   ]
  },
  {
   "cell_type": "code",
   "execution_count": 11,
   "id": "3efbca3b",
   "metadata": {},
   "outputs": [],
   "source": [
    "def identification_table(worker, cur, connection):\n",
    "    sql = \"\"\"INSERT INTO identification_codes (employee_id, \n",
    "                                                job_id, \n",
    "                                                department_id)\n",
    "                                    \n",
    "         values (%s, %s, %s) \n",
    "    \"\"\"\n",
    "    cur.execute(sql, (worker[\"employee_id\"], worker[\"job_id\"], worker[\"department_id\"]))\n",
    "    \n",
    "    connection.commit()"
   ]
  },
  {
   "cell_type": "code",
   "execution_count": 12,
   "id": "2bc6bbce",
   "metadata": {},
   "outputs": [],
   "source": [
    "def department_table(worker, cur, connection):\n",
    "    sql = \"\"\"INSERT INTO department (department_id, \n",
    "                                         department)\n",
    "                                    \n",
    "         values (%s, %s) \n",
    "    \"\"\"\n",
    "    cur.execute(sql, (worker[\"department_id\"], worker[\"department\"]))\n",
    "    \n",
    "    connection.commit()"
   ]
  },
  {
   "cell_type": "code",
   "execution_count": 13,
   "id": "cf2cba15",
   "metadata": {},
   "outputs": [],
   "source": [
    "def job_description_table(worker, cur, connection):\n",
    "    sql = \"\"\"INSERT INTO job_description (job_id, \n",
    "                                    job_title, \n",
    "                                    job_description)\n",
    "                                    \n",
    "         values (%s, %s, %s) \n",
    "    \"\"\"\n",
    "    cur.execute(sql, (worker[\"job_id\"], worker[\"job_title\"], worker[\"job_description\"]))\n",
    "    \n",
    "    connection.commit()"
   ]
  },
  {
   "cell_type": "code",
   "execution_count": 14,
   "id": "15d2a4f0",
   "metadata": {},
   "outputs": [],
   "source": [
    "def job_profile_table(worker, cur, connection):\n",
    "    sql = \"\"\"INSERT INTO job_profile (employee_id, \n",
    "                                    start_date, \n",
    "                                    years_company)\n",
    "                                    \n",
    "         values (%s, %s, %s) \n",
    "    \"\"\"\n",
    "    cur.execute(sql, (worker[\"employee_id\"], worker[\"start_date\"], worker[\"years_with_company\"]))\n",
    "    \n",
    "    connection.commit()"
   ]
  },
  {
   "cell_type": "code",
   "execution_count": 15,
   "id": "35b99f0e",
   "metadata": {},
   "outputs": [],
   "source": [
    "def payment_information_table(worker, cur, connection):\n",
    "    sql = \"\"\"INSERT INTO payment_information (job_id, \n",
    "                                                job_salary, \n",
    "                                                benefits, \n",
    "                                                employment_status)\n",
    "                                    \n",
    "         values (%s, %s, %s, %s) \n",
    "    \"\"\"\n",
    "    cur.execute(sql, (worker[\"job_id\"], worker[\"salary\"], worker[\"benefits\"], \n",
    "                      worker[\"work_status\"]))\n",
    "    \n",
    "    connection.commit()"
   ]
  },
  {
   "cell_type": "code",
   "execution_count": null,
   "id": "735725ab",
   "metadata": {},
   "outputs": [],
   "source": []
  },
  {
   "cell_type": "code",
   "execution_count": 16,
   "id": "d0044f8e",
   "metadata": {},
   "outputs": [],
   "source": [
    "def main():\n",
    "    database_starttime = datetime.datetime.strptime(\"1/1/2020\", \"%m/%d/%Y\").date()\n",
    "    start = datetime.datetime.strptime(\"1/1/2010\", \"%m/%d/%Y\")\n",
    "    end = datetime.datetime.strptime(\"1/1/2020\", \"%m/%d/%Y\")\n",
    "    \n",
    "    minimum_wage = repair_minimum_wage(minimum_wage_df)\n",
    "    cleaned_employees = repair_employees_df(employees_df, words)\n",
    "    employees = create_employee_attributes(cleaned_employees, minimum_wage, start, end, database_starttime)\n",
    "    connection = pymysql.connect(host=\"localhost\",\n",
    "                     user=\"root\",\n",
    "                     password=\"Immalegacy5\",\n",
    "                     charset=\"utf8\",\n",
    "                     db=\"payroll_db\")\n",
    "    \n",
    "    cur = connection.cursor()\n",
    "    counter = 0\n",
    "    for rows, columns in employees.iterrows():\n",
    "        if counter % 500 == 0 and counter != 0: print(\"Inserted Total Rows of Data: \", counter)\n",
    "        counter += 1\n",
    "        worker = (rows, columns)[1]\n",
    "        employees_table(worker, cur, connection)\n",
    "        contact_table(worker, cur, connection)\n",
    "        identification_table(worker, cur, connection)\n",
    "        department_table(worker, cur, connection)\n",
    "        job_description_table(worker, cur, connection)\n",
    "        job_profile_table(worker, cur, connection)\n",
    "        payment_information_table(worker, cur, connection)\n",
    "    print(\"Data Transferred Successfully\")\n",
    "    return employees"
   ]
  },
  {
   "cell_type": "code",
   "execution_count": 17,
   "id": "347bf4f3",
   "metadata": {
    "scrolled": true
   },
   "outputs": [
    {
     "ename": "OperationalError",
     "evalue": "(1054, \"Unknown column 'employee_id' in 'field list'\")",
     "output_type": "error",
     "traceback": [
      "\u001b[1;31m---------------------------------------------------------------------------\u001b[0m",
      "\u001b[1;31mOperationalError\u001b[0m                          Traceback (most recent call last)",
      "\u001b[1;32m~\\AppData\\Local\\Temp/ipykernel_17008/451043146.py\u001b[0m in \u001b[0;36m<module>\u001b[1;34m\u001b[0m\n\u001b[1;32m----> 1\u001b[1;33m \u001b[0mmain\u001b[0m\u001b[1;33m(\u001b[0m\u001b[1;33m)\u001b[0m\u001b[1;33m\u001b[0m\u001b[1;33m\u001b[0m\u001b[0m\n\u001b[0m",
      "\u001b[1;32m~\\AppData\\Local\\Temp/ipykernel_17008/2325035382.py\u001b[0m in \u001b[0;36mmain\u001b[1;34m()\u001b[0m\n\u001b[0;32m     24\u001b[0m         \u001b[0mdepartment_table\u001b[0m\u001b[1;33m(\u001b[0m\u001b[0mworker\u001b[0m\u001b[1;33m,\u001b[0m \u001b[0mcur\u001b[0m\u001b[1;33m,\u001b[0m \u001b[0mconnection\u001b[0m\u001b[1;33m)\u001b[0m\u001b[1;33m\u001b[0m\u001b[1;33m\u001b[0m\u001b[0m\n\u001b[0;32m     25\u001b[0m         \u001b[0mjob_description_table\u001b[0m\u001b[1;33m(\u001b[0m\u001b[0mworker\u001b[0m\u001b[1;33m,\u001b[0m \u001b[0mcur\u001b[0m\u001b[1;33m,\u001b[0m \u001b[0mconnection\u001b[0m\u001b[1;33m)\u001b[0m\u001b[1;33m\u001b[0m\u001b[1;33m\u001b[0m\u001b[0m\n\u001b[1;32m---> 26\u001b[1;33m         \u001b[0mjob_profile_table\u001b[0m\u001b[1;33m(\u001b[0m\u001b[0mworker\u001b[0m\u001b[1;33m,\u001b[0m \u001b[0mcur\u001b[0m\u001b[1;33m,\u001b[0m \u001b[0mconnection\u001b[0m\u001b[1;33m)\u001b[0m\u001b[1;33m\u001b[0m\u001b[1;33m\u001b[0m\u001b[0m\n\u001b[0m\u001b[0;32m     27\u001b[0m         \u001b[0mpayment_information_table\u001b[0m\u001b[1;33m(\u001b[0m\u001b[0mworker\u001b[0m\u001b[1;33m,\u001b[0m \u001b[0mcur\u001b[0m\u001b[1;33m,\u001b[0m \u001b[0mconnection\u001b[0m\u001b[1;33m)\u001b[0m\u001b[1;33m\u001b[0m\u001b[1;33m\u001b[0m\u001b[0m\n\u001b[0;32m     28\u001b[0m     \u001b[0mprint\u001b[0m\u001b[1;33m(\u001b[0m\u001b[1;34m\"Data Transferred Successfully\"\u001b[0m\u001b[1;33m)\u001b[0m\u001b[1;33m\u001b[0m\u001b[1;33m\u001b[0m\u001b[0m\n",
      "\u001b[1;32m~\\AppData\\Local\\Temp/ipykernel_17008/502152510.py\u001b[0m in \u001b[0;36mjob_profile_table\u001b[1;34m(worker, cur, connection)\u001b[0m\n\u001b[0;32m      6\u001b[0m          \u001b[0mvalues\u001b[0m \u001b[1;33m(\u001b[0m\u001b[1;33m%\u001b[0m\u001b[0ms\u001b[0m\u001b[1;33m,\u001b[0m \u001b[1;33m%\u001b[0m\u001b[0ms\u001b[0m\u001b[1;33m,\u001b[0m \u001b[1;33m%\u001b[0m\u001b[0ms\u001b[0m\u001b[1;33m)\u001b[0m\u001b[1;33m\u001b[0m\u001b[1;33m\u001b[0m\u001b[0m\n\u001b[0;32m      7\u001b[0m     \"\"\"\n\u001b[1;32m----> 8\u001b[1;33m     \u001b[0mcur\u001b[0m\u001b[1;33m.\u001b[0m\u001b[0mexecute\u001b[0m\u001b[1;33m(\u001b[0m\u001b[0msql\u001b[0m\u001b[1;33m,\u001b[0m \u001b[1;33m(\u001b[0m\u001b[0mworker\u001b[0m\u001b[1;33m[\u001b[0m\u001b[1;34m\"employee_id\"\u001b[0m\u001b[1;33m]\u001b[0m\u001b[1;33m,\u001b[0m \u001b[0mworker\u001b[0m\u001b[1;33m[\u001b[0m\u001b[1;34m\"start_date\"\u001b[0m\u001b[1;33m]\u001b[0m\u001b[1;33m,\u001b[0m \u001b[0mworker\u001b[0m\u001b[1;33m[\u001b[0m\u001b[1;34m\"years_with_company\"\u001b[0m\u001b[1;33m]\u001b[0m\u001b[1;33m)\u001b[0m\u001b[1;33m)\u001b[0m\u001b[1;33m\u001b[0m\u001b[1;33m\u001b[0m\u001b[0m\n\u001b[0m\u001b[0;32m      9\u001b[0m \u001b[1;33m\u001b[0m\u001b[0m\n\u001b[0;32m     10\u001b[0m     \u001b[0mconnection\u001b[0m\u001b[1;33m.\u001b[0m\u001b[0mcommit\u001b[0m\u001b[1;33m(\u001b[0m\u001b[1;33m)\u001b[0m\u001b[1;33m\u001b[0m\u001b[1;33m\u001b[0m\u001b[0m\n",
      "\u001b[1;32mC:\\Python\\Python310\\lib\\site-packages\\pymysql\\cursors.py\u001b[0m in \u001b[0;36mexecute\u001b[1;34m(self, query, args)\u001b[0m\n\u001b[0;32m    146\u001b[0m         \u001b[0mquery\u001b[0m \u001b[1;33m=\u001b[0m \u001b[0mself\u001b[0m\u001b[1;33m.\u001b[0m\u001b[0mmogrify\u001b[0m\u001b[1;33m(\u001b[0m\u001b[0mquery\u001b[0m\u001b[1;33m,\u001b[0m \u001b[0margs\u001b[0m\u001b[1;33m)\u001b[0m\u001b[1;33m\u001b[0m\u001b[1;33m\u001b[0m\u001b[0m\n\u001b[0;32m    147\u001b[0m \u001b[1;33m\u001b[0m\u001b[0m\n\u001b[1;32m--> 148\u001b[1;33m         \u001b[0mresult\u001b[0m \u001b[1;33m=\u001b[0m \u001b[0mself\u001b[0m\u001b[1;33m.\u001b[0m\u001b[0m_query\u001b[0m\u001b[1;33m(\u001b[0m\u001b[0mquery\u001b[0m\u001b[1;33m)\u001b[0m\u001b[1;33m\u001b[0m\u001b[1;33m\u001b[0m\u001b[0m\n\u001b[0m\u001b[0;32m    149\u001b[0m         \u001b[0mself\u001b[0m\u001b[1;33m.\u001b[0m\u001b[0m_executed\u001b[0m \u001b[1;33m=\u001b[0m \u001b[0mquery\u001b[0m\u001b[1;33m\u001b[0m\u001b[1;33m\u001b[0m\u001b[0m\n\u001b[0;32m    150\u001b[0m         \u001b[1;32mreturn\u001b[0m \u001b[0mresult\u001b[0m\u001b[1;33m\u001b[0m\u001b[1;33m\u001b[0m\u001b[0m\n",
      "\u001b[1;32mC:\\Python\\Python310\\lib\\site-packages\\pymysql\\cursors.py\u001b[0m in \u001b[0;36m_query\u001b[1;34m(self, q)\u001b[0m\n\u001b[0;32m    308\u001b[0m         \u001b[0mself\u001b[0m\u001b[1;33m.\u001b[0m\u001b[0m_last_executed\u001b[0m \u001b[1;33m=\u001b[0m \u001b[0mq\u001b[0m\u001b[1;33m\u001b[0m\u001b[1;33m\u001b[0m\u001b[0m\n\u001b[0;32m    309\u001b[0m         \u001b[0mself\u001b[0m\u001b[1;33m.\u001b[0m\u001b[0m_clear_result\u001b[0m\u001b[1;33m(\u001b[0m\u001b[1;33m)\u001b[0m\u001b[1;33m\u001b[0m\u001b[1;33m\u001b[0m\u001b[0m\n\u001b[1;32m--> 310\u001b[1;33m         \u001b[0mconn\u001b[0m\u001b[1;33m.\u001b[0m\u001b[0mquery\u001b[0m\u001b[1;33m(\u001b[0m\u001b[0mq\u001b[0m\u001b[1;33m)\u001b[0m\u001b[1;33m\u001b[0m\u001b[1;33m\u001b[0m\u001b[0m\n\u001b[0m\u001b[0;32m    311\u001b[0m         \u001b[0mself\u001b[0m\u001b[1;33m.\u001b[0m\u001b[0m_do_get_result\u001b[0m\u001b[1;33m(\u001b[0m\u001b[1;33m)\u001b[0m\u001b[1;33m\u001b[0m\u001b[1;33m\u001b[0m\u001b[0m\n\u001b[0;32m    312\u001b[0m         \u001b[1;32mreturn\u001b[0m \u001b[0mself\u001b[0m\u001b[1;33m.\u001b[0m\u001b[0mrowcount\u001b[0m\u001b[1;33m\u001b[0m\u001b[1;33m\u001b[0m\u001b[0m\n",
      "\u001b[1;32mC:\\Python\\Python310\\lib\\site-packages\\pymysql\\connections.py\u001b[0m in \u001b[0;36mquery\u001b[1;34m(self, sql, unbuffered)\u001b[0m\n\u001b[0;32m    546\u001b[0m             \u001b[0msql\u001b[0m \u001b[1;33m=\u001b[0m \u001b[0msql\u001b[0m\u001b[1;33m.\u001b[0m\u001b[0mencode\u001b[0m\u001b[1;33m(\u001b[0m\u001b[0mself\u001b[0m\u001b[1;33m.\u001b[0m\u001b[0mencoding\u001b[0m\u001b[1;33m,\u001b[0m \u001b[1;34m\"surrogateescape\"\u001b[0m\u001b[1;33m)\u001b[0m\u001b[1;33m\u001b[0m\u001b[1;33m\u001b[0m\u001b[0m\n\u001b[0;32m    547\u001b[0m         \u001b[0mself\u001b[0m\u001b[1;33m.\u001b[0m\u001b[0m_execute_command\u001b[0m\u001b[1;33m(\u001b[0m\u001b[0mCOMMAND\u001b[0m\u001b[1;33m.\u001b[0m\u001b[0mCOM_QUERY\u001b[0m\u001b[1;33m,\u001b[0m \u001b[0msql\u001b[0m\u001b[1;33m)\u001b[0m\u001b[1;33m\u001b[0m\u001b[1;33m\u001b[0m\u001b[0m\n\u001b[1;32m--> 548\u001b[1;33m         \u001b[0mself\u001b[0m\u001b[1;33m.\u001b[0m\u001b[0m_affected_rows\u001b[0m \u001b[1;33m=\u001b[0m \u001b[0mself\u001b[0m\u001b[1;33m.\u001b[0m\u001b[0m_read_query_result\u001b[0m\u001b[1;33m(\u001b[0m\u001b[0munbuffered\u001b[0m\u001b[1;33m=\u001b[0m\u001b[0munbuffered\u001b[0m\u001b[1;33m)\u001b[0m\u001b[1;33m\u001b[0m\u001b[1;33m\u001b[0m\u001b[0m\n\u001b[0m\u001b[0;32m    549\u001b[0m         \u001b[1;32mreturn\u001b[0m \u001b[0mself\u001b[0m\u001b[1;33m.\u001b[0m\u001b[0m_affected_rows\u001b[0m\u001b[1;33m\u001b[0m\u001b[1;33m\u001b[0m\u001b[0m\n\u001b[0;32m    550\u001b[0m \u001b[1;33m\u001b[0m\u001b[0m\n",
      "\u001b[1;32mC:\\Python\\Python310\\lib\\site-packages\\pymysql\\connections.py\u001b[0m in \u001b[0;36m_read_query_result\u001b[1;34m(self, unbuffered)\u001b[0m\n\u001b[0;32m    773\u001b[0m         \u001b[1;32melse\u001b[0m\u001b[1;33m:\u001b[0m\u001b[1;33m\u001b[0m\u001b[1;33m\u001b[0m\u001b[0m\n\u001b[0;32m    774\u001b[0m             \u001b[0mresult\u001b[0m \u001b[1;33m=\u001b[0m \u001b[0mMySQLResult\u001b[0m\u001b[1;33m(\u001b[0m\u001b[0mself\u001b[0m\u001b[1;33m)\u001b[0m\u001b[1;33m\u001b[0m\u001b[1;33m\u001b[0m\u001b[0m\n\u001b[1;32m--> 775\u001b[1;33m             \u001b[0mresult\u001b[0m\u001b[1;33m.\u001b[0m\u001b[0mread\u001b[0m\u001b[1;33m(\u001b[0m\u001b[1;33m)\u001b[0m\u001b[1;33m\u001b[0m\u001b[1;33m\u001b[0m\u001b[0m\n\u001b[0m\u001b[0;32m    776\u001b[0m         \u001b[0mself\u001b[0m\u001b[1;33m.\u001b[0m\u001b[0m_result\u001b[0m \u001b[1;33m=\u001b[0m \u001b[0mresult\u001b[0m\u001b[1;33m\u001b[0m\u001b[1;33m\u001b[0m\u001b[0m\n\u001b[0;32m    777\u001b[0m         \u001b[1;32mif\u001b[0m \u001b[0mresult\u001b[0m\u001b[1;33m.\u001b[0m\u001b[0mserver_status\u001b[0m \u001b[1;32mis\u001b[0m \u001b[1;32mnot\u001b[0m \u001b[1;32mNone\u001b[0m\u001b[1;33m:\u001b[0m\u001b[1;33m\u001b[0m\u001b[1;33m\u001b[0m\u001b[0m\n",
      "\u001b[1;32mC:\\Python\\Python310\\lib\\site-packages\\pymysql\\connections.py\u001b[0m in \u001b[0;36mread\u001b[1;34m(self)\u001b[0m\n\u001b[0;32m   1154\u001b[0m     \u001b[1;32mdef\u001b[0m \u001b[0mread\u001b[0m\u001b[1;33m(\u001b[0m\u001b[0mself\u001b[0m\u001b[1;33m)\u001b[0m\u001b[1;33m:\u001b[0m\u001b[1;33m\u001b[0m\u001b[1;33m\u001b[0m\u001b[0m\n\u001b[0;32m   1155\u001b[0m         \u001b[1;32mtry\u001b[0m\u001b[1;33m:\u001b[0m\u001b[1;33m\u001b[0m\u001b[1;33m\u001b[0m\u001b[0m\n\u001b[1;32m-> 1156\u001b[1;33m             \u001b[0mfirst_packet\u001b[0m \u001b[1;33m=\u001b[0m \u001b[0mself\u001b[0m\u001b[1;33m.\u001b[0m\u001b[0mconnection\u001b[0m\u001b[1;33m.\u001b[0m\u001b[0m_read_packet\u001b[0m\u001b[1;33m(\u001b[0m\u001b[1;33m)\u001b[0m\u001b[1;33m\u001b[0m\u001b[1;33m\u001b[0m\u001b[0m\n\u001b[0m\u001b[0;32m   1157\u001b[0m \u001b[1;33m\u001b[0m\u001b[0m\n\u001b[0;32m   1158\u001b[0m             \u001b[1;32mif\u001b[0m \u001b[0mfirst_packet\u001b[0m\u001b[1;33m.\u001b[0m\u001b[0mis_ok_packet\u001b[0m\u001b[1;33m(\u001b[0m\u001b[1;33m)\u001b[0m\u001b[1;33m:\u001b[0m\u001b[1;33m\u001b[0m\u001b[1;33m\u001b[0m\u001b[0m\n",
      "\u001b[1;32mC:\\Python\\Python310\\lib\\site-packages\\pymysql\\connections.py\u001b[0m in \u001b[0;36m_read_packet\u001b[1;34m(self, packet_type)\u001b[0m\n\u001b[0;32m    723\u001b[0m             \u001b[1;32mif\u001b[0m \u001b[0mself\u001b[0m\u001b[1;33m.\u001b[0m\u001b[0m_result\u001b[0m \u001b[1;32mis\u001b[0m \u001b[1;32mnot\u001b[0m \u001b[1;32mNone\u001b[0m \u001b[1;32mand\u001b[0m \u001b[0mself\u001b[0m\u001b[1;33m.\u001b[0m\u001b[0m_result\u001b[0m\u001b[1;33m.\u001b[0m\u001b[0munbuffered_active\u001b[0m \u001b[1;32mis\u001b[0m \u001b[1;32mTrue\u001b[0m\u001b[1;33m:\u001b[0m\u001b[1;33m\u001b[0m\u001b[1;33m\u001b[0m\u001b[0m\n\u001b[0;32m    724\u001b[0m                 \u001b[0mself\u001b[0m\u001b[1;33m.\u001b[0m\u001b[0m_result\u001b[0m\u001b[1;33m.\u001b[0m\u001b[0munbuffered_active\u001b[0m \u001b[1;33m=\u001b[0m \u001b[1;32mFalse\u001b[0m\u001b[1;33m\u001b[0m\u001b[1;33m\u001b[0m\u001b[0m\n\u001b[1;32m--> 725\u001b[1;33m             \u001b[0mpacket\u001b[0m\u001b[1;33m.\u001b[0m\u001b[0mraise_for_error\u001b[0m\u001b[1;33m(\u001b[0m\u001b[1;33m)\u001b[0m\u001b[1;33m\u001b[0m\u001b[1;33m\u001b[0m\u001b[0m\n\u001b[0m\u001b[0;32m    726\u001b[0m         \u001b[1;32mreturn\u001b[0m \u001b[0mpacket\u001b[0m\u001b[1;33m\u001b[0m\u001b[1;33m\u001b[0m\u001b[0m\n\u001b[0;32m    727\u001b[0m \u001b[1;33m\u001b[0m\u001b[0m\n",
      "\u001b[1;32mC:\\Python\\Python310\\lib\\site-packages\\pymysql\\protocol.py\u001b[0m in \u001b[0;36mraise_for_error\u001b[1;34m(self)\u001b[0m\n\u001b[0;32m    219\u001b[0m         \u001b[1;32mif\u001b[0m \u001b[0mDEBUG\u001b[0m\u001b[1;33m:\u001b[0m\u001b[1;33m\u001b[0m\u001b[1;33m\u001b[0m\u001b[0m\n\u001b[0;32m    220\u001b[0m             \u001b[0mprint\u001b[0m\u001b[1;33m(\u001b[0m\u001b[1;34m\"errno =\"\u001b[0m\u001b[1;33m,\u001b[0m \u001b[0merrno\u001b[0m\u001b[1;33m)\u001b[0m\u001b[1;33m\u001b[0m\u001b[1;33m\u001b[0m\u001b[0m\n\u001b[1;32m--> 221\u001b[1;33m         \u001b[0merr\u001b[0m\u001b[1;33m.\u001b[0m\u001b[0mraise_mysql_exception\u001b[0m\u001b[1;33m(\u001b[0m\u001b[0mself\u001b[0m\u001b[1;33m.\u001b[0m\u001b[0m_data\u001b[0m\u001b[1;33m)\u001b[0m\u001b[1;33m\u001b[0m\u001b[1;33m\u001b[0m\u001b[0m\n\u001b[0m\u001b[0;32m    222\u001b[0m \u001b[1;33m\u001b[0m\u001b[0m\n\u001b[0;32m    223\u001b[0m     \u001b[1;32mdef\u001b[0m \u001b[0mdump\u001b[0m\u001b[1;33m(\u001b[0m\u001b[0mself\u001b[0m\u001b[1;33m)\u001b[0m\u001b[1;33m:\u001b[0m\u001b[1;33m\u001b[0m\u001b[1;33m\u001b[0m\u001b[0m\n",
      "\u001b[1;32mC:\\Python\\Python310\\lib\\site-packages\\pymysql\\err.py\u001b[0m in \u001b[0;36mraise_mysql_exception\u001b[1;34m(data)\u001b[0m\n\u001b[0;32m    141\u001b[0m     \u001b[1;32mif\u001b[0m \u001b[0merrorclass\u001b[0m \u001b[1;32mis\u001b[0m \u001b[1;32mNone\u001b[0m\u001b[1;33m:\u001b[0m\u001b[1;33m\u001b[0m\u001b[1;33m\u001b[0m\u001b[0m\n\u001b[0;32m    142\u001b[0m         \u001b[0merrorclass\u001b[0m \u001b[1;33m=\u001b[0m \u001b[0mInternalError\u001b[0m \u001b[1;32mif\u001b[0m \u001b[0merrno\u001b[0m \u001b[1;33m<\u001b[0m \u001b[1;36m1000\u001b[0m \u001b[1;32melse\u001b[0m \u001b[0mOperationalError\u001b[0m\u001b[1;33m\u001b[0m\u001b[1;33m\u001b[0m\u001b[0m\n\u001b[1;32m--> 143\u001b[1;33m     \u001b[1;32mraise\u001b[0m \u001b[0merrorclass\u001b[0m\u001b[1;33m(\u001b[0m\u001b[0merrno\u001b[0m\u001b[1;33m,\u001b[0m \u001b[0merrval\u001b[0m\u001b[1;33m)\u001b[0m\u001b[1;33m\u001b[0m\u001b[1;33m\u001b[0m\u001b[0m\n\u001b[0m",
      "\u001b[1;31mOperationalError\u001b[0m: (1054, \"Unknown column 'employee_id' in 'field list'\")"
     ]
    }
   ],
   "source": [
    "main()"
   ]
  },
  {
   "cell_type": "code",
   "execution_count": null,
   "id": "ddca5cc7",
   "metadata": {},
   "outputs": [],
   "source": []
  },
  {
   "cell_type": "code",
   "execution_count": null,
   "id": "82715ba7",
   "metadata": {},
   "outputs": [],
   "source": []
  },
  {
   "cell_type": "code",
   "execution_count": null,
   "id": "57f4340a",
   "metadata": {},
   "outputs": [],
   "source": []
  }
 ],
 "metadata": {
  "kernelspec": {
   "display_name": "Python 3 (ipykernel)",
   "language": "python",
   "name": "python3"
  },
  "language_info": {
   "codemirror_mode": {
    "name": "ipython",
    "version": 3
   },
   "file_extension": ".py",
   "mimetype": "text/x-python",
   "name": "python",
   "nbconvert_exporter": "python",
   "pygments_lexer": "ipython3",
   "version": "3.10.0"
  }
 },
 "nbformat": 4,
 "nbformat_minor": 5
}
