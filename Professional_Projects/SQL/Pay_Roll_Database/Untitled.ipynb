{
 "cells": [
  {
   "cell_type": "code",
   "execution_count": 137,
   "id": "8b8c8cd0",
   "metadata": {},
   "outputs": [],
   "source": [
    "import pandas as pd\n",
    "import numpy as np\n",
    "import os\n",
    "import pymysql\n",
    "import random\n",
    "import datetime\n",
    "import math\n",
    "import requests\n",
    "import pyspark\n",
    "\n",
    "from pyspark.sql import SparkSession\n",
    "from random import randrange, randint\n",
    "from datetime import timedelta"
   ]
  },
  {
   "cell_type": "code",
   "execution_count": 138,
   "id": "d8167936",
   "metadata": {},
   "outputs": [],
   "source": [
    "word_site = \"https://www.mit.edu/~ecprice/wordlist.10000\"\n",
    "\n",
    "response = requests.get(word_site)\n",
    "words = response.content.decode(\"utf-8\").splitlines()"
   ]
  },
  {
   "cell_type": "code",
   "execution_count": 139,
   "id": "95795bb3",
   "metadata": {},
   "outputs": [
    {
     "data": {
      "text/html": [
       "\n",
       "            <div>\n",
       "                <p><b>SparkSession - in-memory</b></p>\n",
       "                \n",
       "        <div>\n",
       "            <p><b>SparkContext</b></p>\n",
       "\n",
       "            <p><a href=\"http://10.0.0.88:4040\">Spark UI</a></p>\n",
       "\n",
       "            <dl>\n",
       "              <dt>Version</dt>\n",
       "                <dd><code>v3.2.1</code></dd>\n",
       "              <dt>Master</dt>\n",
       "                <dd><code>local[*]</code></dd>\n",
       "              <dt>AppName</dt>\n",
       "                <dd><code>Employee_Data</code></dd>\n",
       "            </dl>\n",
       "        </div>\n",
       "        \n",
       "            </div>\n",
       "        "
      ],
      "text/plain": [
       "<pyspark.sql.session.SparkSession at 0x17d8fefefe0>"
      ]
     },
     "execution_count": 139,
     "metadata": {},
     "output_type": "execute_result"
    }
   ],
   "source": [
    "spark = SparkSession.builder.appName(\"Employee_Data\").getOrCreate() \n",
    "spark"
   ]
  },
  {
   "cell_type": "code",
   "execution_count": 140,
   "id": "01b21d21",
   "metadata": {},
   "outputs": [],
   "source": [
    "#employees = employees.rename({\"address\": \"street\", \"phone1\": \"phone\", \"web\": \"website\"}, axis=1)\n",
    "#employee_id = [*range(1, 4500, 1)]\n",
    "#employees.insert(0, \"employee_id\", employee_id)"
   ]
  },
  {
   "cell_type": "code",
   "execution_count": 141,
   "id": "82f0adf1",
   "metadata": {},
   "outputs": [
    {
     "data": {
      "text/plain": [
       "['first_name',\n",
       " 'last_name',\n",
       " 'company_name',\n",
       " 'address',\n",
       " 'city',\n",
       " 'county',\n",
       " 'state',\n",
       " 'zip',\n",
       " 'phone1',\n",
       " 'phone2',\n",
       " 'email',\n",
       " 'web']"
      ]
     },
     "execution_count": 141,
     "metadata": {},
     "output_type": "execute_result"
    }
   ],
   "source": [
    "employees_df = spark.read.csv(\"Employee_Dummy.csv\", header=True)\n",
    "employees_df.columns"
   ]
  },
  {
   "cell_type": "code",
   "execution_count": 169,
   "id": "cb4485ad",
   "metadata": {},
   "outputs": [],
   "source": [
    "def repair_employees_df(employees_df, words):\n",
    "    employees = employees_df.drop(\"phone2\", \"company_name\", \"county\")\n",
    "    employees = generate_unique_values(employees.toPandas(), words)\n",
    "    \n",
    "    employees = employees.rename({\"address\": \"street\", \"phone1\": \"phone\", \"web\": \"website\"}, axis=1)\n",
    "    employee_id = [*range(1, 4500, 1)]\n",
    "    employees.insert(0, \"employee_id\", employee_id)\n",
    "    return employees"
   ]
  },
  {
   "cell_type": "code",
   "execution_count": 172,
   "id": "4ceb2d39",
   "metadata": {},
   "outputs": [],
   "source": [
    "def generate_unique_values(employees, words):\n",
    "    counter = 0\n",
    "    \n",
    "    \n",
    "    for rows, columns in employees.iterrows():\n",
    "        worker = (rows, columns)[1]\n",
    "        \n",
    "        street_numb = random.randint(1, 999)\n",
    "        street = random.choice(words)\n",
    "        street_ending = [\"Ave\", \"St\", \"Blvd\", \"Ct\", \"Mnr\", \"RD\", \"Drive\",\n",
    "                     \"Pkwy\", \"Terrace\", \"Hwy\"]\n",
    "        email_ending = [\"@gmail.com\", \"@hotmail.com\", \"@yahoo.com\", \"@mail.com\", \"@venere.org\", \"@cox.net\"]\n",
    "    \n",
    "        line_one = str(street_numb) + \" \" + street.capitalize() + \" \" + random.choice(street_ending)\n",
    "        email = worker[\"first_name\"][0] + worker[\"last_name\"] + random.choice(email_ending)\n",
    "        website = \"http://\" + worker[\"first_name\"].lower() + random.choice(words) + \".com\"\n",
    "        \n",
    "        if worker[\"address\"] is None: worker[\"address\"] = line_one\n",
    "        if worker[\"zip\"] is None: worker[\"zip\"] = random.randint(10000, 99999)\n",
    "        if worker[\"phone1\"] is None: worker[\"phone1\"] = \"-\".join([str(i) for i in random.sample(range(100, 999), 3)])\n",
    "        if worker[\"email\"] is None: worker[\"email\"] = email\n",
    "        if worker[\"web\"] is None: worker[\"web\"] = website\n",
    "        \n",
    "    return employees"
   ]
  },
  {
   "cell_type": "code",
   "execution_count": 173,
   "id": "51bfb6d5",
   "metadata": {},
   "outputs": [
    {
     "data": {
      "text/html": [
       "<div>\n",
       "<style scoped>\n",
       "    .dataframe tbody tr th:only-of-type {\n",
       "        vertical-align: middle;\n",
       "    }\n",
       "\n",
       "    .dataframe tbody tr th {\n",
       "        vertical-align: top;\n",
       "    }\n",
       "\n",
       "    .dataframe thead th {\n",
       "        text-align: right;\n",
       "    }\n",
       "</style>\n",
       "<table border=\"1\" class=\"dataframe\">\n",
       "  <thead>\n",
       "    <tr style=\"text-align: right;\">\n",
       "      <th></th>\n",
       "      <th>employee_id</th>\n",
       "      <th>first_name</th>\n",
       "      <th>last_name</th>\n",
       "      <th>street</th>\n",
       "      <th>city</th>\n",
       "      <th>state</th>\n",
       "      <th>zip</th>\n",
       "      <th>phone</th>\n",
       "      <th>email</th>\n",
       "      <th>website</th>\n",
       "    </tr>\n",
       "  </thead>\n",
       "  <tbody>\n",
       "    <tr>\n",
       "      <th>0</th>\n",
       "      <td>1</td>\n",
       "      <td>James</td>\n",
       "      <td>Butt</td>\n",
       "      <td>6649 N Blue Gum St</td>\n",
       "      <td>New Orleans</td>\n",
       "      <td>LA</td>\n",
       "      <td>70116</td>\n",
       "      <td>504-621-8927</td>\n",
       "      <td>jbutt@gmail.com</td>\n",
       "      <td>http://www.bentonjohnbjr.com</td>\n",
       "    </tr>\n",
       "    <tr>\n",
       "      <th>1</th>\n",
       "      <td>2</td>\n",
       "      <td>Josephine</td>\n",
       "      <td>Darakjy</td>\n",
       "      <td>4 B Blue Ridge Blvd</td>\n",
       "      <td>Brighton</td>\n",
       "      <td>MI</td>\n",
       "      <td>48116</td>\n",
       "      <td>810-292-9388</td>\n",
       "      <td>josephine_darakjy@darakjy.org</td>\n",
       "      <td>http://www.chanayjeffreyaesq.com</td>\n",
       "    </tr>\n",
       "    <tr>\n",
       "      <th>2</th>\n",
       "      <td>3</td>\n",
       "      <td>Art</td>\n",
       "      <td>Venere</td>\n",
       "      <td>8 W Cerritos Ave #54</td>\n",
       "      <td>Bridgeport</td>\n",
       "      <td>NJ</td>\n",
       "      <td>8014</td>\n",
       "      <td>856-636-8749</td>\n",
       "      <td>art@venere.org</td>\n",
       "      <td>http://www.chemeljameslcpa.com</td>\n",
       "    </tr>\n",
       "    <tr>\n",
       "      <th>3</th>\n",
       "      <td>4</td>\n",
       "      <td>Lenna</td>\n",
       "      <td>Paprocki</td>\n",
       "      <td>639 Main St</td>\n",
       "      <td>Anchorage</td>\n",
       "      <td>AK</td>\n",
       "      <td>99501</td>\n",
       "      <td>907-385-4412</td>\n",
       "      <td>lpaprocki@hotmail.com</td>\n",
       "      <td>http://www.feltzprintingservice.com</td>\n",
       "    </tr>\n",
       "    <tr>\n",
       "      <th>4</th>\n",
       "      <td>5</td>\n",
       "      <td>Donette</td>\n",
       "      <td>Foller</td>\n",
       "      <td>34 Center St</td>\n",
       "      <td>Hamilton</td>\n",
       "      <td>OH</td>\n",
       "      <td>45011</td>\n",
       "      <td>513-570-1893</td>\n",
       "      <td>donette.foller@cox.net</td>\n",
       "      <td>http://www.printingdimensions.com</td>\n",
       "    </tr>\n",
       "    <tr>\n",
       "      <th>...</th>\n",
       "      <td>...</td>\n",
       "      <td>...</td>\n",
       "      <td>...</td>\n",
       "      <td>...</td>\n",
       "      <td>...</td>\n",
       "      <td>...</td>\n",
       "      <td>...</td>\n",
       "      <td>...</td>\n",
       "      <td>...</td>\n",
       "      <td>...</td>\n",
       "    </tr>\n",
       "    <tr>\n",
       "      <th>4494</th>\n",
       "      <td>4495</td>\n",
       "      <td>Brande</td>\n",
       "      <td>Rader</td>\n",
       "      <td>61 Formation Ct</td>\n",
       "      <td>Sharpsburg</td>\n",
       "      <td>GA</td>\n",
       "      <td>49159</td>\n",
       "      <td>193-410-694</td>\n",
       "      <td>BRader@cox.net</td>\n",
       "      <td>http://brandetoronto.com</td>\n",
       "    </tr>\n",
       "    <tr>\n",
       "      <th>4495</th>\n",
       "      <td>4496</td>\n",
       "      <td>Heath</td>\n",
       "      <td>Brito</td>\n",
       "      <td>444 Communicate Terrace</td>\n",
       "      <td>San Diego</td>\n",
       "      <td>CA</td>\n",
       "      <td>90472</td>\n",
       "      <td>952-654-725</td>\n",
       "      <td>HBrito@gmail.com</td>\n",
       "      <td>http://heathphone.com</td>\n",
       "    </tr>\n",
       "    <tr>\n",
       "      <th>4496</th>\n",
       "      <td>4497</td>\n",
       "      <td>Scottie</td>\n",
       "      <td>Benites</td>\n",
       "      <td>505 Symptoms Ave</td>\n",
       "      <td>Dallas</td>\n",
       "      <td>TX</td>\n",
       "      <td>89292</td>\n",
       "      <td>948-749-637</td>\n",
       "      <td>SBenites@mail.com</td>\n",
       "      <td>http://scottiefemales.com</td>\n",
       "    </tr>\n",
       "    <tr>\n",
       "      <th>4497</th>\n",
       "      <td>4498</td>\n",
       "      <td>Kori</td>\n",
       "      <td>Messinger</td>\n",
       "      <td>800 Substance RD</td>\n",
       "      <td>New Market</td>\n",
       "      <td>TN</td>\n",
       "      <td>79512</td>\n",
       "      <td>742-596-880</td>\n",
       "      <td>KMessinger@hotmail.com</td>\n",
       "      <td>http://korirated.com</td>\n",
       "    </tr>\n",
       "    <tr>\n",
       "      <th>4498</th>\n",
       "      <td>4499</td>\n",
       "      <td>Roberto</td>\n",
       "      <td>Motta</td>\n",
       "      <td>55 Champion Blvd</td>\n",
       "      <td>Nichols</td>\n",
       "      <td>NY</td>\n",
       "      <td>40245</td>\n",
       "      <td>280-265-450</td>\n",
       "      <td>RMotta@venere.org</td>\n",
       "      <td>http://robertomanage.com</td>\n",
       "    </tr>\n",
       "  </tbody>\n",
       "</table>\n",
       "<p>4499 rows × 10 columns</p>\n",
       "</div>"
      ],
      "text/plain": [
       "      employee_id first_name  last_name                   street         city  \\\n",
       "0               1      James       Butt       6649 N Blue Gum St  New Orleans   \n",
       "1               2  Josephine    Darakjy      4 B Blue Ridge Blvd     Brighton   \n",
       "2               3        Art     Venere     8 W Cerritos Ave #54   Bridgeport   \n",
       "3               4      Lenna   Paprocki              639 Main St    Anchorage   \n",
       "4               5    Donette     Foller             34 Center St     Hamilton   \n",
       "...           ...        ...        ...                      ...          ...   \n",
       "4494         4495     Brande      Rader          61 Formation Ct   Sharpsburg   \n",
       "4495         4496      Heath      Brito  444 Communicate Terrace    San Diego   \n",
       "4496         4497    Scottie    Benites         505 Symptoms Ave       Dallas   \n",
       "4497         4498       Kori  Messinger         800 Substance RD   New Market   \n",
       "4498         4499    Roberto      Motta         55 Champion Blvd      Nichols   \n",
       "\n",
       "     state    zip         phone                          email  \\\n",
       "0       LA  70116  504-621-8927                jbutt@gmail.com   \n",
       "1       MI  48116  810-292-9388  josephine_darakjy@darakjy.org   \n",
       "2       NJ   8014  856-636-8749                 art@venere.org   \n",
       "3       AK  99501  907-385-4412          lpaprocki@hotmail.com   \n",
       "4       OH  45011  513-570-1893         donette.foller@cox.net   \n",
       "...    ...    ...           ...                            ...   \n",
       "4494    GA  49159   193-410-694                 BRader@cox.net   \n",
       "4495    CA  90472   952-654-725               HBrito@gmail.com   \n",
       "4496    TX  89292   948-749-637              SBenites@mail.com   \n",
       "4497    TN  79512   742-596-880         KMessinger@hotmail.com   \n",
       "4498    NY  40245   280-265-450              RMotta@venere.org   \n",
       "\n",
       "                                  website  \n",
       "0            http://www.bentonjohnbjr.com  \n",
       "1        http://www.chanayjeffreyaesq.com  \n",
       "2          http://www.chemeljameslcpa.com  \n",
       "3     http://www.feltzprintingservice.com  \n",
       "4       http://www.printingdimensions.com  \n",
       "...                                   ...  \n",
       "4494             http://brandetoronto.com  \n",
       "4495                http://heathphone.com  \n",
       "4496            http://scottiefemales.com  \n",
       "4497                 http://korirated.com  \n",
       "4498             http://robertomanage.com  \n",
       "\n",
       "[4499 rows x 10 columns]"
      ]
     },
     "execution_count": 173,
     "metadata": {},
     "output_type": "execute_result"
    }
   ],
   "source": [
    "employees = repair_employees_df(employees_df, words)\n",
    "employees"
   ]
  },
  {
   "cell_type": "raw",
   "id": "80bb0ef0",
   "metadata": {},
   "source": []
  },
  {
   "cell_type": "code",
   "execution_count": null,
   "id": "a2253ffd",
   "metadata": {},
   "outputs": [],
   "source": []
  },
  {
   "cell_type": "code",
   "execution_count": null,
   "id": "806e4c0a",
   "metadata": {},
   "outputs": [],
   "source": []
  },
  {
   "cell_type": "code",
   "execution_count": null,
   "id": "976958c9",
   "metadata": {},
   "outputs": [],
   "source": []
  },
  {
   "cell_type": "code",
   "execution_count": null,
   "id": "b120afd1",
   "metadata": {},
   "outputs": [],
   "source": []
  },
  {
   "cell_type": "code",
   "execution_count": null,
   "id": "4e55cd70",
   "metadata": {},
   "outputs": [],
   "source": []
  },
  {
   "cell_type": "code",
   "execution_count": 155,
   "id": "65e3eb7b",
   "metadata": {},
   "outputs": [
    {
     "data": {
      "text/plain": [
       "'530-241-391'"
      ]
     },
     "execution_count": 155,
     "metadata": {},
     "output_type": "execute_result"
    }
   ],
   "source": []
  },
  {
   "cell_type": "code",
   "execution_count": 153,
   "id": "b6b2d7f3",
   "metadata": {},
   "outputs": [
    {
     "data": {
      "text/plain": [
       "'873-550-298'"
      ]
     },
     "execution_count": 153,
     "metadata": {},
     "output_type": "execute_result"
    }
   ],
   "source": [
    "heheh"
   ]
  },
  {
   "cell_type": "code",
   "execution_count": null,
   "id": "4d670900",
   "metadata": {},
   "outputs": [],
   "source": []
  }
 ],
 "metadata": {
  "kernelspec": {
   "display_name": "Python 3 (ipykernel)",
   "language": "python",
   "name": "python3"
  },
  "language_info": {
   "codemirror_mode": {
    "name": "ipython",
    "version": 3
   },
   "file_extension": ".py",
   "mimetype": "text/x-python",
   "name": "python",
   "nbconvert_exporter": "python",
   "pygments_lexer": "ipython3",
   "version": "3.10.0"
  }
 },
 "nbformat": 4,
 "nbformat_minor": 5
}
