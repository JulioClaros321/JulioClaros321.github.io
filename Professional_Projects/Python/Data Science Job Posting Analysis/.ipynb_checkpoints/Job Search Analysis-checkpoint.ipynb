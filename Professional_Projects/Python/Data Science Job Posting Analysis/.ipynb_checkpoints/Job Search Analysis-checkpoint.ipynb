{
 "cells": [
  {
   "cell_type": "code",
   "execution_count": 100,
   "id": "84a6f82c",
   "metadata": {},
   "outputs": [],
   "source": [
    "import requests\n",
    "import re\n",
    "import warnings\n",
    "import urllib.request\n",
    "\n",
    "from webbot import Browser\n",
    "from selenium import webdriver\n",
    "\n",
    "from selenium.webdriver.common.keys import Keys\n",
    "from selenium.webdriver.chrome.options import Options\n",
    "from webdriver_manager.chrome import ChromeDriverManager\n",
    "\n",
    "import pandas as pd\n",
    "from pandas import DataFrame\n",
    "from bs4 import BeautifulSoup"
   ]
  },
  {
   "cell_type": "code",
   "execution_count": 101,
   "id": "1f859b6a",
   "metadata": {},
   "outputs": [],
   "source": [
    "warnings.filterwarnings(\"ignore\", category=DeprecationWarning) "
   ]
  },
  {
   "cell_type": "code",
   "execution_count": 102,
   "id": "a9234a9d",
   "metadata": {},
   "outputs": [],
   "source": [
    "def common_words():\n",
    "    \"Returns common english articles/words list from parsed excel list excel\"\n",
    "    \n",
    "    common_words_list = pd.read_csv(\"Common_Articles_List.csv\")\n",
    "    return common_words_list"
   ]
  },
  {
   "cell_type": "code",
   "execution_count": 103,
   "id": "a41f5b02",
   "metadata": {},
   "outputs": [],
   "source": [
    "def get_indeed_page_numbers(page):\n",
    "    page_numbers_element = soup.find_all(\"span\", class_=\"pn\", text=True)\n",
    "    page_number_list = []\n",
    "    for items in page_numbers_element:\n",
    "        page_number_list.append(items.parent[\"href\"])\n",
    "    return page_number_list"
   ]
  },
  {
   "cell_type": "code",
   "execution_count": 110,
   "id": "8cdf4cb7",
   "metadata": {},
   "outputs": [
    {
     "name": "stderr",
     "output_type": "stream",
     "text": [
      "\n",
      "\n",
      "====== WebDriver manager ======\n",
      "Current google-chrome version is 99.0.4844\n",
      "Get LATEST chromedriver version for 99.0.4844 google-chrome\n",
      "Trying to download new driver from https://chromedriver.storage.googleapis.com/99.0.4844.51/chromedriver_win32.zip\n",
      "Driver has been saved in cache [C:\\Users\\13017\\.wdm\\drivers\\chromedriver\\win32\\99.0.4844.51]\n"
     ]
    },
    {
     "ename": "TypeError",
     "evalue": "object of type 'Response' has no len()",
     "output_type": "error",
     "traceback": [
      "\u001b[1;31m---------------------------------------------------------------------------\u001b[0m",
      "\u001b[1;31mTypeError\u001b[0m                                 Traceback (most recent call last)",
      "Input \u001b[1;32mIn [110]\u001b[0m, in \u001b[0;36m<module>\u001b[1;34m\u001b[0m\n\u001b[0;32m     37\u001b[0m \u001b[38;5;28;01mfor\u001b[39;00m job \u001b[38;5;129;01min\u001b[39;00m job_listings:\n\u001b[0;32m     39\u001b[0m     job_links\u001b[38;5;241m.\u001b[39mappend(indeed_url \u001b[38;5;241m+\u001b[39m job[\u001b[38;5;124m\"\u001b[39m\u001b[38;5;124mhref\u001b[39m\u001b[38;5;124m\"\u001b[39m])\n\u001b[1;32m---> 41\u001b[0m soup \u001b[38;5;241m=\u001b[39m \u001b[43mBeautifulSoup\u001b[49m\u001b[43m(\u001b[49m\u001b[43mrequests\u001b[49m\u001b[38;5;241;43m.\u001b[39;49m\u001b[43mget\u001b[49m\u001b[43m(\u001b[49m\u001b[43mjob_links\u001b[49m\u001b[43m[\u001b[49m\u001b[38;5;241;43m0\u001b[39;49m\u001b[43m]\u001b[49m\u001b[43m)\u001b[49m\u001b[43m,\u001b[49m\u001b[43m \u001b[49m\u001b[38;5;124;43m\"\u001b[39;49m\u001b[38;5;124;43mhtml.parser\u001b[39;49m\u001b[38;5;124;43m\"\u001b[39;49m\u001b[43m)\u001b[49m\n\u001b[0;32m     42\u001b[0m soup\n",
      "File \u001b[1;32mC:\\Python\\Python39\\lib\\site-packages\\bs4\\__init__.py:312\u001b[0m, in \u001b[0;36mBeautifulSoup.__init__\u001b[1;34m(self, markup, features, builder, parse_only, from_encoding, exclude_encodings, element_classes, **kwargs)\u001b[0m\n\u001b[0;32m    310\u001b[0m \u001b[38;5;28;01mif\u001b[39;00m \u001b[38;5;28mhasattr\u001b[39m(markup, \u001b[38;5;124m'\u001b[39m\u001b[38;5;124mread\u001b[39m\u001b[38;5;124m'\u001b[39m):        \u001b[38;5;66;03m# It's a file-type object.\u001b[39;00m\n\u001b[0;32m    311\u001b[0m     markup \u001b[38;5;241m=\u001b[39m markup\u001b[38;5;241m.\u001b[39mread()\n\u001b[1;32m--> 312\u001b[0m \u001b[38;5;28;01melif\u001b[39;00m \u001b[38;5;28;43mlen\u001b[39;49m\u001b[43m(\u001b[49m\u001b[43mmarkup\u001b[49m\u001b[43m)\u001b[49m \u001b[38;5;241m<\u001b[39m\u001b[38;5;241m=\u001b[39m \u001b[38;5;241m256\u001b[39m \u001b[38;5;129;01mand\u001b[39;00m (\n\u001b[0;32m    313\u001b[0m         (\u001b[38;5;28misinstance\u001b[39m(markup, \u001b[38;5;28mbytes\u001b[39m) \u001b[38;5;129;01mand\u001b[39;00m \u001b[38;5;129;01mnot\u001b[39;00m \u001b[38;5;124mb\u001b[39m\u001b[38;5;124m'\u001b[39m\u001b[38;5;124m<\u001b[39m\u001b[38;5;124m'\u001b[39m \u001b[38;5;129;01min\u001b[39;00m markup)\n\u001b[0;32m    314\u001b[0m         \u001b[38;5;129;01mor\u001b[39;00m (\u001b[38;5;28misinstance\u001b[39m(markup, \u001b[38;5;28mstr\u001b[39m) \u001b[38;5;129;01mand\u001b[39;00m \u001b[38;5;129;01mnot\u001b[39;00m \u001b[38;5;124m'\u001b[39m\u001b[38;5;124m<\u001b[39m\u001b[38;5;124m'\u001b[39m \u001b[38;5;129;01min\u001b[39;00m markup)\n\u001b[0;32m    315\u001b[0m ):\n\u001b[0;32m    316\u001b[0m     \u001b[38;5;66;03m# Print out warnings for a couple beginner problems\u001b[39;00m\n\u001b[0;32m    317\u001b[0m     \u001b[38;5;66;03m# involving passing non-markup to Beautiful Soup.\u001b[39;00m\n\u001b[0;32m    318\u001b[0m     \u001b[38;5;66;03m# Beautiful Soup will still parse the input as markup,\u001b[39;00m\n\u001b[0;32m    319\u001b[0m     \u001b[38;5;66;03m# just in case that's what the user really wants.\u001b[39;00m\n\u001b[0;32m    320\u001b[0m     \u001b[38;5;28;01mif\u001b[39;00m (\u001b[38;5;28misinstance\u001b[39m(markup, \u001b[38;5;28mstr\u001b[39m)\n\u001b[0;32m    321\u001b[0m         \u001b[38;5;129;01mand\u001b[39;00m \u001b[38;5;129;01mnot\u001b[39;00m os\u001b[38;5;241m.\u001b[39mpath\u001b[38;5;241m.\u001b[39msupports_unicode_filenames):\n\u001b[0;32m    322\u001b[0m         possible_filename \u001b[38;5;241m=\u001b[39m markup\u001b[38;5;241m.\u001b[39mencode(\u001b[38;5;124m\"\u001b[39m\u001b[38;5;124mutf8\u001b[39m\u001b[38;5;124m\"\u001b[39m)\n",
      "\u001b[1;31mTypeError\u001b[0m: object of type 'Response' has no len()"
     ]
    }
   ],
   "source": [
    "options = Options()\n",
    "options.binary_location = \"C:\\Program Files\\Google\\Chrome\\Application\\chrome.exe\"\n",
    "driver = webdriver.Chrome(ChromeDriverManager().install())\n",
    "\n",
    "#User Input and Driver Link\n",
    "driver.get('https://indeed.com/')\n",
    "job_title = driver.find_element_by_id('text-input-what')\n",
    "job_title.send_keys(\"Data Science\")\n",
    "location = driver.find_element_by_id(\"text-input-where\")\n",
    "location.send_keys(\"test\")\n",
    "locate_clear_field = driver.find_element_by_class_name(\"icl-TextInputClearable-icon\")\n",
    "locate_clear_field.click()\n",
    "fixed_location = location.send_keys(\"Langley Park\")\n",
    "submit_button = driver.find_element_by_class_name(\"yosegi-InlineWhatWhere-primaryButton\")\n",
    "submit_button.click()\n",
    "\n",
    "\n",
    "current_page_url = driver.current_url\n",
    "indeed_url = \"https://www.indeed.com\"\n",
    "\n",
    "analysis_page = requests.get(current_page_url)\n",
    "soup = BeautifulSoup(analysis_page.content, \"html.parser\")\n",
    "\n",
    "\n",
    "additional_page_links = get_indeed_page_numbers(soup)\n",
    "#additional_page_links\n",
    "\n",
    "\n",
    "#results = soup.find_all(\"a\", class_=\"tapItem\", href=True)\n",
    "#results[0]\n",
    "#for a in soup.find_all('a', href=True):\n",
    "    #print(\"Found the URL:\", a['href'])\n",
    "    \n",
    "job_links = []    \n",
    "job_listings = soup.find_all('a', class_=\"tapItem\")\n",
    "counter = 0\n",
    "for job in job_listings:\n",
    "    \n",
    "    job_links.append(indeed_url + job[\"href\"])\n",
    "    \n",
    "soup = BeautifulSoup(requests.get(job_links[0]), \"html.parser\")\n",
    "soup\n",
    "    "
   ]
  },
  {
   "cell_type": "code",
   "execution_count": null,
   "id": "7aeb5c3c",
   "metadata": {},
   "outputs": [],
   "source": [
    "common_words = common_words()\n",
    "common_words"
   ]
  },
  {
   "cell_type": "code",
   "execution_count": null,
   "id": "41d29e88",
   "metadata": {},
   "outputs": [],
   "source": [
    "len(job_postings)\n"
   ]
  },
  {
   "cell_type": "code",
   "execution_count": null,
   "id": "42c14fec",
   "metadata": {},
   "outputs": [],
   "source": []
  },
  {
   "cell_type": "code",
   "execution_count": null,
   "id": "a580cfd1",
   "metadata": {},
   "outputs": [],
   "source": []
  },
  {
   "cell_type": "code",
   "execution_count": null,
   "id": "3d5c644b",
   "metadata": {},
   "outputs": [],
   "source": []
  },
  {
   "cell_type": "code",
   "execution_count": null,
   "id": "013dcf1a",
   "metadata": {},
   "outputs": [],
   "source": []
  }
 ],
 "metadata": {
  "kernelspec": {
   "display_name": "Python 3 (ipykernel)",
   "language": "python",
   "name": "python3"
  },
  "language_info": {
   "codemirror_mode": {
    "name": "ipython",
    "version": 3
   },
   "file_extension": ".py",
   "mimetype": "text/x-python",
   "name": "python",
   "nbconvert_exporter": "python",
   "pygments_lexer": "ipython3",
   "version": "3.9.10"
  }
 },
 "nbformat": 4,
 "nbformat_minor": 5
}
