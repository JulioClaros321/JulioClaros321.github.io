{
 "cells": [
  {
   "cell_type": "code",
   "execution_count": 1,
   "id": "9f8c6377",
   "metadata": {},
   "outputs": [
    {
     "name": "stdout",
     "output_type": "stream",
     "text": [
      "WARNING:tensorflow:From C:\\Users\\jclaros\\AppData\\Roaming\\Python\\Python311\\site-packages\\keras\\src\\losses.py:2976: The name tf.losses.sparse_softmax_cross_entropy is deprecated. Please use tf.compat.v1.losses.sparse_softmax_cross_entropy instead.\n",
      "\n"
     ]
    }
   ],
   "source": [
    "import pandas as pd \n",
    "import numpy as np \n",
    "import tensorflow as tf "
   ]
  },
  {
   "cell_type": "code",
   "execution_count": 2,
   "id": "24a9eefa",
   "metadata": {
    "scrolled": false
   },
   "outputs": [],
   "source": [
    "t = tf.zeros([5,5,5,5])\n",
    "t = tf.reshape(t, [625])\n",
    "#print(t)"
   ]
  },
  {
   "cell_type": "code",
   "execution_count": null,
   "id": "a40f4568",
   "metadata": {},
   "outputs": [],
   "source": [
    " "
   ]
  },
  {
   "cell_type": "markdown",
   "id": "10f5316b",
   "metadata": {},
   "source": [
    "## Linear Regression Tutorial "
   ]
  },
  {
   "cell_type": "code",
   "execution_count": 3,
   "id": "fb7fdf17",
   "metadata": {},
   "outputs": [],
   "source": [
    "from __future__ import absolute_import, division, print_function, unicode_literals\n",
    "\n",
    "import matplotlib.pyplot as plt #visualization of charts and graphs\n",
    "from IPython.display import clear_output\n",
    "from six.moves import urllib \n",
    "\n",
    "import tensorflow.compat.v2.feature_column as fc #feature column for linear regression model \n",
    "\n",
    "import tensorflow as tf "
   ]
  },
  {
   "cell_type": "code",
   "execution_count": null,
   "id": "eb565738",
   "metadata": {},
   "outputs": [],
   "source": []
  },
  {
   "cell_type": "code",
   "execution_count": 22,
   "id": "cef171fe",
   "metadata": {
    "scrolled": false
   },
   "outputs": [
    {
     "name": "stdout",
     "output_type": "stream",
     "text": [
      "{'accuracy': 0.75, 'accuracy_baseline': 0.625, 'auc': 0.8361799, 'auc_precision_recall': 0.7766994, 'average_loss': 0.47838226, 'label/mean': 0.375, 'loss': 0.46765268, 'precision': 0.6633663, 'prediction/mean': 0.37318197, 'recall': 0.67676765, 'global_step': 300}\n"
     ]
    }
   ],
   "source": [
    "# Titanic Datasets Survival Rates\n",
    "#dftrain.age.hist(bins=20)\n",
    "#dftrain.sex.value_counts().plot(kind='barh') Gender bar graph sideways \n",
    "#dftrain['class'].value_counts().plot(kind='barh') Classes as side bargraph \n",
    "#pd.concat([dftrain, ytrain], axis= 1).groupby('sex').survived.mean().plot(kind='barh').set_xlabel('% survive')\n",
    "\n",
    "\n",
    "\n",
    "dftrain = pd.read_csv('https://storage.googleapis.com/tf-datasets/titanic/train.csv')\n",
    "dfeval = pd.read_csv('https://storage.googleapis.com/tf-datasets/titanic/eval.csv')\n",
    "\n",
    "ytrain = dftrain.pop('survived') # Removed the survived column\n",
    "y_eval = dfeval.pop('survived') # Removed the survived column\n",
    "\n",
    "\n",
    "categorical_columns = ['sex', 'n_siblings_spouses', 'parch', 'class', 'deck', 'embark_town', 'alone']\n",
    "numeric_columns = ['age', 'fare']\n",
    "\n",
    "feature_columns = []\n",
    "for feature_name in categorical_columns: \n",
    "    vocabulary = dftrain[feature_name].unique() # Gets a list of unique values \n",
    "    feature_columns.append(tf.feature_column.categorical_column_with_vocabulary_list(feature_name, vocabulary))\n",
    "    \n",
    "for feature_name in numeric_columns: \n",
    "    feature_columns.append(tf.feature_column.numeric_column(feature_name, dtype=tf.float32))\n",
    "\n",
    "\n",
    "    \n",
    "def make_input_fn(data_df, label_df, num_epocs=15, shuffle=True, batch_size=32): \n",
    "    def input_function(): \n",
    "        ds = tf.data.Dataset.from_tensor_slices((dict(data_df), label_df)) #create a tf.data.dataset object with data and its la\n",
    "        if shuffle: \n",
    "            ds = ds.shuffle(1000) # randomize order of data \n",
    "        ds = ds.batch(batch_size).repeat(num_epocs) # Split dataset into batches of 32 & repeat process\n",
    "        return ds #return a batch of the dataset \n",
    "    return input_function # return a function object for use\n",
    "\n",
    "train_input_fn = make_input_fn(dftrain, ytrain) #Call input function that was returned to use to get a a \n",
    "eval_input_fn = make_input_fn(dfeval, y_eval, num_epocs=1, shuffle=False)\n",
    "\n",
    "linear_est = tf.estimator.LinearClassifier(feature_columns=feature_columns)\n",
    "\n",
    "linear_est.train(train_input_fn) # train\n",
    "result = linear_est.evaluate(eval_input_fn) # get model metrics/stats by testing on testing data\n",
    "\n",
    "clear_output() # clears console output\n",
    "print(result) # the result variable is simply a dict of stats about our model "
   ]
  },
  {
   "cell_type": "code",
   "execution_count": 37,
   "id": "796d4a6e",
   "metadata": {},
   "outputs": [
    {
     "name": "stdout",
     "output_type": "stream",
     "text": [
      "INFO:tensorflow:Calling model_fn.\n",
      "INFO:tensorflow:Done calling model_fn.\n",
      "INFO:tensorflow:Graph was finalized.\n",
      "INFO:tensorflow:Restoring parameters from C:\\Users\\jclaros\\AppData\\Local\\Temp\\tmp3mhpusoq\\model.ckpt-300\n",
      "INFO:tensorflow:Running local_init_op.\n",
      "INFO:tensorflow:Done running local_init_op.\n",
      "sex                        female\n",
      "age                          58.0\n",
      "n_siblings_spouses              0\n",
      "parch                           0\n",
      "fare                        26.55\n",
      "class                       First\n",
      "deck                            C\n",
      "embark_town           Southampton\n",
      "alone                           y\n",
      "Name: 2, dtype: object\n",
      "SURVIVED: 1\n",
      "0.63567215\n"
     ]
    }
   ],
   "source": [
    "result = list(linear_est.predict(eval_input_fn))\n",
    "print(dfeval.loc[2])\n",
    "print('SURVIVED: ' + str(y_eval.loc[2]))\n",
    "print(result[2]['probabilities'][1])"
   ]
  },
  {
   "cell_type": "code",
   "execution_count": null,
   "id": "5db61b98",
   "metadata": {},
   "outputs": [],
   "source": []
  },
  {
   "cell_type": "markdown",
   "id": "d670afc5",
   "metadata": {
    "code_folding": []
   },
   "source": [
    "# CLASSIFICATION TUTORIAL"
   ]
  },
  {
   "cell_type": "code",
   "execution_count": null,
   "id": "0c58c0b6",
   "metadata": {},
   "outputs": [],
   "source": []
  }
 ],
 "metadata": {
  "kernelspec": {
   "display_name": "Python 3 (ipykernel)",
   "language": "python",
   "name": "python3"
  },
  "language_info": {
   "codemirror_mode": {
    "name": "ipython",
    "version": 3
   },
   "file_extension": ".py",
   "mimetype": "text/x-python",
   "name": "python",
   "nbconvert_exporter": "python",
   "pygments_lexer": "ipython3",
   "version": "3.11.2"
  }
 },
 "nbformat": 4,
 "nbformat_minor": 5
}
